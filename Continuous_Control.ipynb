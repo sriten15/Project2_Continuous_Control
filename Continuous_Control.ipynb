{
 "cells": [
  {
   "cell_type": "markdown",
   "metadata": {},
   "source": [
    "# Continuous Control\n",
    "\n",
    "---\n",
    "\n",
    "You are welcome to use this coding environment to train your agent for the project.  Follow the instructions below to get started!\n",
    "\n",
    "### 1. Start the Environment\n",
    "\n",
    "Run the next code cell to install a few packages.  This line will take a few minutes to run!"
   ]
  },
  {
   "cell_type": "code",
   "execution_count": 11,
   "metadata": {},
   "outputs": [],
   "source": [
    "!pip -q install ./python"
   ]
  },
  {
   "cell_type": "markdown",
   "metadata": {},
   "source": [
    "The environments corresponding to both versions of the environment are already saved in the Workspace and can be accessed at the file paths provided below.  \n",
    "\n",
    "Please select one of the two options below for loading the environment."
   ]
  },
  {
   "cell_type": "code",
   "execution_count": 12,
   "metadata": {},
   "outputs": [
    {
     "name": "stderr",
     "output_type": "stream",
     "text": [
      "INFO:unityagents:\n",
      "'Academy' started successfully!\n",
      "Unity Academy name: Academy\n",
      "        Number of Brains: 1\n",
      "        Number of External Brains : 1\n",
      "        Lesson number : 0\n",
      "        Reset Parameters :\n",
      "\t\tgoal_speed -> 1.0\n",
      "\t\tgoal_size -> 5.0\n",
      "Unity brain name: ReacherBrain\n",
      "        Number of Visual Observations (per agent): 0\n",
      "        Vector Observation space type: continuous\n",
      "        Vector Observation space size (per agent): 33\n",
      "        Number of stacked Vector Observation: 1\n",
      "        Vector Action space type: continuous\n",
      "        Vector Action space size (per agent): 4\n",
      "        Vector Action descriptions: , , , \n"
     ]
    }
   ],
   "source": [
    "from unityagents import UnityEnvironment\n",
    "import numpy as np\n",
    "import time\n",
    "from collections import deque\n",
    "import os\n",
    "import matplotlib.pyplot as plt\n",
    "import model\n",
    "import ddpg_agent\n",
    "import torch\n",
    "from ddpg_agent import Agent\n",
    "# select this option to load version 1 (with a single agent) of the environment\n",
    "env = UnityEnvironment(file_name='/data/Reacher_One_Linux_NoVis/Reacher_One_Linux_NoVis.x86_64')\n",
    "\n",
    "# select this option to load version 2 (with 20 agents) of the environment\n",
    "#env = UnityEnvironment(file_name='/data/Reacher_Linux_NoVis/Reacher.x86_64')"
   ]
  },
  {
   "cell_type": "markdown",
   "metadata": {},
   "source": [
    "Environments contain **_brains_** which are responsible for deciding the actions of their associated agents. Here we check for the first brain available, and set it as the default brain we will be controlling from Python."
   ]
  },
  {
   "cell_type": "code",
   "execution_count": 13,
   "metadata": {},
   "outputs": [],
   "source": [
    "# get the default brain\n",
    "brain_name = env.brain_names[0]\n",
    "brain = env.brains[brain_name]"
   ]
  },
  {
   "cell_type": "markdown",
   "metadata": {},
   "source": [
    "### 2. Examine the State and Action Spaces\n",
    "\n",
    "Run the code cell below to print some information about the environment."
   ]
  },
  {
   "cell_type": "code",
   "execution_count": 14,
   "metadata": {},
   "outputs": [
    {
     "name": "stdout",
     "output_type": "stream",
     "text": [
      "Number of agents: 1\n",
      "Size of each action: 4\n",
      "There are 1 agents. Each observes a state with length: 33\n",
      "The state for the first agent looks like: [  0.00000000e+00  -4.00000000e+00   0.00000000e+00   1.00000000e+00\n",
      "  -0.00000000e+00  -0.00000000e+00  -4.37113883e-08   0.00000000e+00\n",
      "   0.00000000e+00   0.00000000e+00   0.00000000e+00   0.00000000e+00\n",
      "   0.00000000e+00   0.00000000e+00  -1.00000000e+01   0.00000000e+00\n",
      "   1.00000000e+00  -0.00000000e+00  -0.00000000e+00  -4.37113883e-08\n",
      "   0.00000000e+00   0.00000000e+00   0.00000000e+00   0.00000000e+00\n",
      "   0.00000000e+00   0.00000000e+00   5.75471878e+00  -1.00000000e+00\n",
      "   5.55726671e+00   0.00000000e+00   1.00000000e+00   0.00000000e+00\n",
      "  -1.68164849e-01]\n"
     ]
    }
   ],
   "source": [
    "# reset the environment\n",
    "env_info = env.reset(train_mode=True)[brain_name]\n",
    "\n",
    "# number of agents\n",
    "num_agents = len(env_info.agents)\n",
    "print('Number of agents:', num_agents)\n",
    "\n",
    "# size of each action\n",
    "action_size = brain.vector_action_space_size\n",
    "print('Size of each action:', action_size)\n",
    "\n",
    "# examine the state space \n",
    "states = env_info.vector_observations\n",
    "state_size = states.shape[1]\n",
    "print('There are {} agents. Each observes a state with length: {}'.format(states.shape[0], state_size))\n",
    "print('The state for the first agent looks like:', states[0])"
   ]
  },
  {
   "cell_type": "markdown",
   "metadata": {},
   "source": [
    "### 3. Take Random Actions in the Environment\n",
    "\n",
    "In the next code cell, you will learn how to use the Python API to control the agent and receive feedback from the environment.\n",
    "\n",
    "Note that **in this coding environment, you will not be able to watch the agents while they are training**, and you should set `train_mode=True` to restart the environment."
   ]
  },
  {
   "cell_type": "code",
   "execution_count": 15,
   "metadata": {},
   "outputs": [
    {
     "name": "stdout",
     "output_type": "stream",
     "text": [
      "Total score (averaged over agents) this episode: 0.9899999778717756\n"
     ]
    }
   ],
   "source": [
    "env_info = env.reset(train_mode=True)[brain_name]      # reset the environment    \n",
    "states = env_info.vector_observations                  # get the current state (for each agent)\n",
    "scores = np.zeros(num_agents)                          # initialize the score (for each agent)\n",
    "while True:\n",
    "    actions = np.random.randn(num_agents, action_size) # select an action (for each agent)\n",
    "    actions = np.clip(actions, -1, 1)                  # all actions between -1 and 1\n",
    "    env_info = env.step(actions)[brain_name]           # send all actions to tne environment\n",
    "    next_states = env_info.vector_observations         # get next state (for each agent)\n",
    "    rewards = env_info.rewards                         # get reward (for each agent)\n",
    "    dones = env_info.local_done                        # see if episode finished\n",
    "    scores += env_info.rewards                         # update the score (for each agent)\n",
    "    states = next_states                               # roll over states to next time step\n",
    "    if np.any(dones):                                  # exit loop if episode finished\n",
    "        break\n",
    "print('Total score (averaged over agents) this episode: {}'.format(np.mean(scores)))"
   ]
  },
  {
   "cell_type": "markdown",
   "metadata": {},
   "source": [
    "When finished, you can close the environment."
   ]
  },
  {
   "cell_type": "code",
   "execution_count": null,
   "metadata": {},
   "outputs": [],
   "source": []
  },
  {
   "cell_type": "markdown",
   "metadata": {},
   "source": [
    "### 4. It's Your Turn!\n",
    "\n",
    "Now it's your turn to train your own agent to solve the environment!  A few **important notes**:\n",
    "- When training the environment, set `train_mode=True`, so that the line for resetting the environment looks like the following:\n",
    "```python\n",
    "env_info = env.reset(train_mode=True)[brain_name]\n",
    "```\n",
    "- To structure your work, you're welcome to work directly in this Jupyter notebook, or you might like to start over with a new file!  You can see the list of files in the workspace by clicking on **_Jupyter_** in the top left corner of the notebook.\n",
    "- In this coding environment, you will not be able to watch the agents while they are training.  However, **_after training the agents_**, you can download the saved model weights to watch the agents on your own machine! "
   ]
  },
  {
   "cell_type": "code",
   "execution_count": 16,
   "metadata": {},
   "outputs": [],
   "source": [
    "## Define the training function\n",
    "def ddpg(n_episodes=1000, max_t=5000):\n",
    "    \"\"\"Deep Deterministic Policy Gradients (DDPG).\n",
    "    \n",
    "    Params\n",
    "    ======\n",
    "        n_episodes (int): maximum number of training episodes\n",
    "        max_t (int): maximum number of timesteps per episode\n",
    "    \"\"\"\n",
    "    scores = []      # episodic scores\n",
    "    moving_avg = []  # moving average over 100 episodes and over all agents\n",
    "    _target_episodes = 100\n",
    "    _target_score = 30\n",
    "    ## Perform n_episodes of training\n",
    "    time_training_start = time.time()\n",
    "    for i_episode in range(1, n_episodes+1):\n",
    "        time_episode_start = time.time()\n",
    "        agent.noise.reset()\n",
    "        states = env.reset(train_mode=True)[brain_name].vector_observations\n",
    "        scores_episode = np.zeros(num_agents)           # rewards per episode for each agent\n",
    "\n",
    "        for t in range(1, max_t+1):\n",
    "            # Perform a step: S;A;R;S'\n",
    "            actions = agent.act(states)                 # select the next action for each agent\n",
    "            env_info = env.step(actions)[brain_name]    # send the actions to the environment\n",
    "            rewards = env_info.rewards                  # get the rewards\n",
    "            next_states = env_info.vector_observations  # get the next states\n",
    "            dones = env_info.local_done \n",
    "            # Send the results to the Agent\n",
    "            for (state, action, reward, next_state, done) \\\n",
    "                    in zip(states, actions, rewards, next_states, dones):\n",
    "                agent.step(state, action, reward, next_state, done, t)\n",
    "            # Update the variables for the next iteration\n",
    "            states = next_states\n",
    "            scores_episode += rewards\n",
    "\n",
    "        # Store the rewards and calculate the moving average\n",
    "        scores.append(scores_episode.tolist())\n",
    "        moving_avg.append(np.mean(scores[-_target_episodes:], axis=0))\n",
    "        # Calculate the elapsed time\n",
    "        time_episode = time.time() - time_episode_start\n",
    "        time_elapsed = time.time() - time_training_start\n",
    "        time_episode_str = time.strftime('%Mm%Ss', time.gmtime(time_episode))\n",
    "\n",
    "        ## Print the results for each episode and moving average\n",
    "        print('Episode {:3d} ({})\\tScore: {:5.2f}\\t' \\\n",
    "              'Moving average: {:5.2f} ' \\\n",
    "              .format(i_episode, time_episode_str, scores_episode.mean(),\n",
    "                      moving_avg[-1].mean()))\n",
    "\n",
    "        ## Check if the environment has been solved and target score is met\n",
    "        if moving_avg[-1].mean() >= _target_score and i_episode >= _target_episodes:\n",
    "            time_elapsed_str = time.strftime('%Hh%Mm%Ss', time.gmtime(time_elapsed))\n",
    "            print('\\nEnvironment solved in {:d} episodes!\\t' \\\n",
    "                  'Average Score: {:.2f}\\tElapsed time: {}'\n",
    "                  .format(i_episode, moving_avg[-1].mean(),\n",
    "                          time_elapsed_str))\n",
    "            \n",
    "            ## Saving the model with training hyperparams\n",
    "            checkpoint = {\n",
    "                'actor_dict': agent.actor_local.state_dict(),\n",
    "                'critic_dict': agent.critic_local.state_dict(),\n",
    "                'ddpg_params': {\n",
    "                    'batch_size': ddpg_agent.BATCH_SIZE,\n",
    "                    'buffer_size': ddpg_agent.BUFFER_SIZE,\n",
    "                    'gamma': ddpg_agent.GAMMA,\n",
    "                    'lr_actor': ddpg_agent.LR_ACTOR,\n",
    "                    'lr_critic': ddpg_agent.LR_CRITIC,\n",
    "                    'tau': ddpg_agent.TAU,\n",
    "                    },\n",
    "                'episodes': i_episode,\n",
    "                'elapsed_time': time_elapsed_str,\n",
    "                'scores': scores,\n",
    "                'moving_avg': moving_avg,\n",
    "                }\n",
    "            print('\\nSaving model ...', end=' ')\n",
    "            torch.save(checkpoint, 'checkpoint.pth')\n",
    "            print('done.')\n",
    "\n",
    "            break\n",
    "\n",
    "    return scores, moving_avg"
   ]
  },
  {
   "cell_type": "code",
   "execution_count": 17,
   "metadata": {},
   "outputs": [
    {
     "name": "stdout",
     "output_type": "stream",
     "text": [
      "Episode   1 (00m23s)\tScore:  0.67\tMoving average:  0.67 \n",
      "Episode   2 (00m23s)\tScore:  2.19\tMoving average:  1.43 \n",
      "Episode   3 (00m23s)\tScore:  2.74\tMoving average:  1.87 \n",
      "Episode   4 (00m23s)\tScore:  4.10\tMoving average:  2.42 \n",
      "Episode   5 (00m23s)\tScore:  1.28\tMoving average:  2.20 \n",
      "Episode   6 (00m23s)\tScore:  4.51\tMoving average:  2.58 \n",
      "Episode   7 (00m23s)\tScore:  3.70\tMoving average:  2.74 \n",
      "Episode   8 (00m23s)\tScore:  4.03\tMoving average:  2.90 \n",
      "Episode   9 (00m23s)\tScore:  5.28\tMoving average:  3.17 \n",
      "Episode  10 (00m24s)\tScore:  5.25\tMoving average:  3.37 \n",
      "Episode  11 (00m23s)\tScore:  6.25\tMoving average:  3.64 \n",
      "Episode  12 (00m23s)\tScore:  6.24\tMoving average:  3.85 \n",
      "Episode  13 (00m23s)\tScore: 10.62\tMoving average:  4.37 \n",
      "Episode  14 (00m23s)\tScore: 11.88\tMoving average:  4.91 \n",
      "Episode  15 (00m23s)\tScore: 11.94\tMoving average:  5.38 \n",
      "Episode  16 (00m23s)\tScore: 10.85\tMoving average:  5.72 \n",
      "Episode  17 (00m23s)\tScore:  9.95\tMoving average:  5.97 \n",
      "Episode  18 (00m23s)\tScore: 14.55\tMoving average:  6.45 \n",
      "Episode  19 (00m24s)\tScore: 14.60\tMoving average:  6.88 \n",
      "Episode  20 (00m23s)\tScore: 10.71\tMoving average:  7.07 \n",
      "Episode  21 (00m23s)\tScore: 14.46\tMoving average:  7.42 \n",
      "Episode  22 (00m24s)\tScore: 12.88\tMoving average:  7.67 \n",
      "Episode  23 (00m24s)\tScore: 17.44\tMoving average:  8.09 \n",
      "Episode  24 (00m23s)\tScore: 18.62\tMoving average:  8.53 \n",
      "Episode  25 (00m24s)\tScore: 12.39\tMoving average:  8.69 \n",
      "Episode  26 (00m23s)\tScore: 18.36\tMoving average:  9.06 \n",
      "Episode  27 (00m23s)\tScore: 22.00\tMoving average:  9.54 \n",
      "Episode  28 (00m23s)\tScore: 24.52\tMoving average: 10.07 \n",
      "Episode  29 (00m24s)\tScore: 18.04\tMoving average: 10.35 \n",
      "Episode  30 (00m24s)\tScore: 17.29\tMoving average: 10.58 \n",
      "Episode  31 (00m23s)\tScore: 18.54\tMoving average: 10.83 \n",
      "Episode  32 (00m24s)\tScore: 25.17\tMoving average: 11.28 \n",
      "Episode  33 (00m23s)\tScore: 25.62\tMoving average: 11.72 \n",
      "Episode  34 (00m23s)\tScore: 30.95\tMoving average: 12.28 \n",
      "Episode  35 (00m23s)\tScore: 21.07\tMoving average: 12.53 \n",
      "Episode  36 (00m24s)\tScore: 22.33\tMoving average: 12.81 \n",
      "Episode  37 (00m23s)\tScore: 25.76\tMoving average: 13.16 \n",
      "Episode  38 (00m23s)\tScore: 27.91\tMoving average: 13.54 \n",
      "Episode  39 (00m23s)\tScore: 18.68\tMoving average: 13.68 \n",
      "Episode  40 (00m23s)\tScore: 24.82\tMoving average: 13.95 \n",
      "Episode  41 (00m23s)\tScore: 26.93\tMoving average: 14.27 \n",
      "Episode  42 (00m23s)\tScore: 26.18\tMoving average: 14.55 \n",
      "Episode  43 (00m23s)\tScore: 26.09\tMoving average: 14.82 \n",
      "Episode  44 (00m24s)\tScore: 24.38\tMoving average: 15.04 \n",
      "Episode  45 (00m23s)\tScore: 30.91\tMoving average: 15.39 \n",
      "Episode  46 (00m23s)\tScore: 30.24\tMoving average: 15.72 \n",
      "Episode  47 (00m23s)\tScore: 29.20\tMoving average: 16.00 \n",
      "Episode  48 (00m23s)\tScore: 28.49\tMoving average: 16.26 \n",
      "Episode  49 (00m24s)\tScore: 39.33\tMoving average: 16.73 \n",
      "Episode  50 (00m23s)\tScore: 32.50\tMoving average: 17.05 \n",
      "Episode  51 (00m23s)\tScore: 46.72\tMoving average: 17.63 \n",
      "Episode  52 (00m23s)\tScore: 37.71\tMoving average: 18.02 \n",
      "Episode  53 (00m23s)\tScore: 49.32\tMoving average: 18.61 \n",
      "Episode  54 (00m23s)\tScore: 37.43\tMoving average: 18.96 \n",
      "Episode  55 (00m23s)\tScore: 40.92\tMoving average: 19.36 \n",
      "Episode  56 (00m23s)\tScore: 41.77\tMoving average: 19.76 \n",
      "Episode  57 (00m24s)\tScore: 44.94\tMoving average: 20.20 \n",
      "Episode  58 (00m23s)\tScore: 42.69\tMoving average: 20.59 \n",
      "Episode  59 (00m23s)\tScore: 44.80\tMoving average: 21.00 \n",
      "Episode  60 (00m23s)\tScore: 48.76\tMoving average: 21.46 \n",
      "Episode  61 (00m23s)\tScore: 43.09\tMoving average: 21.81 \n",
      "Episode  62 (00m24s)\tScore: 42.64\tMoving average: 22.15 \n",
      "Episode  63 (00m23s)\tScore: 45.62\tMoving average: 22.52 \n",
      "Episode  64 (00m23s)\tScore: 50.07\tMoving average: 22.95 \n",
      "Episode  65 (00m24s)\tScore: 47.03\tMoving average: 23.32 \n",
      "Episode  66 (00m23s)\tScore: 44.45\tMoving average: 23.64 \n",
      "Episode  67 (00m23s)\tScore: 39.79\tMoving average: 23.88 \n",
      "Episode  68 (00m23s)\tScore: 36.45\tMoving average: 24.07 \n",
      "Episode  69 (00m23s)\tScore: 37.72\tMoving average: 24.27 \n",
      "Episode  70 (00m24s)\tScore: 44.48\tMoving average: 24.55 \n",
      "Episode  71 (00m23s)\tScore: 33.25\tMoving average: 24.68 \n",
      "Episode  72 (00m23s)\tScore: 35.17\tMoving average: 24.82 \n",
      "Episode  73 (00m23s)\tScore: 49.44\tMoving average: 25.16 \n",
      "Episode  74 (00m23s)\tScore: 48.04\tMoving average: 25.47 \n",
      "Episode  75 (00m24s)\tScore: 48.17\tMoving average: 25.77 \n",
      "Episode  76 (00m23s)\tScore: 42.90\tMoving average: 26.00 \n",
      "Episode  77 (00m23s)\tScore: 29.63\tMoving average: 26.04 \n",
      "Episode  78 (00m23s)\tScore: 44.20\tMoving average: 26.28 \n",
      "Episode  79 (00m23s)\tScore: 38.38\tMoving average: 26.43 \n",
      "Episode  80 (00m23s)\tScore: 39.22\tMoving average: 26.59 \n",
      "Episode  81 (00m23s)\tScore: 41.86\tMoving average: 26.78 \n",
      "Episode  82 (00m23s)\tScore: 60.55\tMoving average: 27.19 \n",
      "Episode  83 (00m24s)\tScore: 36.49\tMoving average: 27.30 \n",
      "Episode  84 (00m23s)\tScore: 51.57\tMoving average: 27.59 \n",
      "Episode  85 (00m23s)\tScore: 39.01\tMoving average: 27.73 \n",
      "Episode  86 (00m23s)\tScore: 32.75\tMoving average: 27.78 \n",
      "Episode  87 (00m23s)\tScore: 43.70\tMoving average: 27.97 \n",
      "Episode  88 (00m24s)\tScore: 51.45\tMoving average: 28.23 \n",
      "Episode  89 (00m23s)\tScore: 40.41\tMoving average: 28.37 \n",
      "Episode  90 (00m23s)\tScore: 40.31\tMoving average: 28.50 \n",
      "Episode  91 (00m23s)\tScore: 61.46\tMoving average: 28.87 \n",
      "Episode  92 (00m23s)\tScore: 46.33\tMoving average: 29.06 \n",
      "Episode  93 (00m23s)\tScore: 43.44\tMoving average: 29.21 \n",
      "Episode  94 (00m23s)\tScore: 38.08\tMoving average: 29.30 \n",
      "Episode  95 (00m24s)\tScore: 45.88\tMoving average: 29.48 \n",
      "Episode  96 (00m23s)\tScore: 43.05\tMoving average: 29.62 \n",
      "Episode  97 (00m23s)\tScore: 44.59\tMoving average: 29.77 \n",
      "Episode  98 (00m23s)\tScore: 51.73\tMoving average: 30.00 \n",
      "Episode  99 (00m23s)\tScore: 45.70\tMoving average: 30.16 \n",
      "Episode 100 (00m23s)\tScore: 51.85\tMoving average: 30.37 \n",
      "\n",
      "Environment solved in 100 episodes!\tAverage Score: 30.37\tElapsed time: 00h39m56s\n",
      "\n",
      "Saving model ... done.\n"
     ]
    }
   ],
   "source": [
    "# Create the Agent\n",
    "agent = Agent(state_size, action_size, random_seed=0)\n",
    "\n",
    "# Train the Agent\n",
    "scores, moving_avg = ddpg()"
   ]
  },
  {
   "cell_type": "code",
   "execution_count": 19,
   "metadata": {},
   "outputs": [
    {
     "data": {
      "image/png": "[encoded data removed]",
      "text/plain": [
       "<matplotlib.figure.Figure at 0x7f3635043cc0>"
      ]
     },
     "metadata": {
      "needs_background": "light"
     },
     "output_type": "display_data"
    }
   ],
   "source": [
    "# Plot the graph for mean score\n",
    "_target_score = 30\n",
    "scores_mean = np.mean(scores, axis=1)\n",
    "moving_avg_mean = np.mean(moving_avg, axis=1)\n",
    "target = [_target_score] * len(scores) # Trace a line indicating the target value\n",
    "\n",
    "# Plot the main graph with the scores and moving average\n",
    "fig = plt.figure(figsize=(18,8))\n",
    "fig.suptitle('Plot of the rewards', fontsize='xx-large')\n",
    "\n",
    "ax = fig.add_subplot(111)\n",
    "ax.plot(scores_mean, label='Score', color='Blue')\n",
    "ax.plot(moving_avg_mean, label='Moving Average',\n",
    "        color='LightGreen', linewidth=3)\n",
    "ax.plot(target, linestyle='--', color='LightCoral', linewidth=1 )\n",
    "ax.text(0, _target_score+1, 'Target', color='LightCoral', fontsize='large')\n",
    "ax.set_ylabel('Score')\n",
    "ax.set_xlabel('Episode #')\n",
    "ax.legend(fontsize='xx-large', loc='lower right')\n",
    "\n",
    "plt.show()"
   ]
  },
  {
   "cell_type": "code",
   "execution_count": null,
   "metadata": {},
   "outputs": [],
   "source": []
  },
  {
   "cell_type": "code",
   "execution_count": null,
   "metadata": {},
   "outputs": [],
   "source": []
  }
 ],
 "metadata": {
  "kernelspec": {
   "display_name": "Python 3",
   "language": "python",
   "name": "python3"
  },
  "language_info": {
   "codemirror_mode": {
    "name": "ipython",
    "version": 3
   },
   "file_extension": ".py",
   "mimetype": "text/x-python",
   "name": "python",
   "nbconvert_exporter": "python",
   "pygments_lexer": "ipython3",
   "version": "3.6.3"
  }
 },
 "nbformat": 4,
 "nbformat_minor": 2
}
